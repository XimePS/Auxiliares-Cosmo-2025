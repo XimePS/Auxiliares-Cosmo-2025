{
 "cells": [
  {
   "cell_type": "markdown",
   "id": "ebf93060",
   "metadata": {},
   "source": [
    "# Auxiliar 3: Término colisional y distancias"
   ]
  },
  {
   "cell_type": "code",
   "execution_count": 1,
   "id": "73f3579d",
   "metadata": {},
   "outputs": [],
   "source": [
    "import numpy as np\n",
    "import matplotlib.pyplot as plt"
   ]
  },
  {
   "cell_type": "markdown",
   "id": "432f3696",
   "metadata": {},
   "source": [
    "El objetivo de este auxiliar es repasar lo visto en el pasado y graficar la **distancia angular** y la **distancia de luminosidad**."
   ]
  },
  {
   "cell_type": "code",
   "execution_count": 2,
   "id": "72909a3e",
   "metadata": {},
   "outputs": [],
   "source": [
    "import camb"
   ]
  },
  {
   "cell_type": "markdown",
   "id": "6eec2a53",
   "metadata": {},
   "source": [
    "### Paso 1: definir la cosmología"
   ]
  },
  {
   "cell_type": "code",
   "execution_count": 3,
   "id": "bbfd4daf",
   "metadata": {},
   "outputs": [],
   "source": [
    "H0 = 67.4 # km/s/Mpc\n",
    "omega_m = 0.315\n",
    "omega_ch2 = 0.120\n",
    "omega_bh2 = 0.0224\n",
    "ns = 0.965\n",
    "tau = 0.054"
   ]
  },
  {
   "cell_type": "code",
   "execution_count": 4,
   "id": "c9742a3b",
   "metadata": {},
   "outputs": [
    {
     "data": {
      "text/plain": [
       "class: <CAMBparams>\n",
       " WantCls = True\n",
       " WantTransfer = False\n",
       " WantScalars = True\n",
       " WantTensors = False\n",
       " WantVectors = False\n",
       " WantDerivedParameters = True\n",
       " Want_cl_2D_array = True\n",
       " Want_CMB = True\n",
       " Want_CMB_lensing = True\n",
       " DoLensing = True\n",
       " NonLinear = NonLinear_none\n",
       " Transfer: <TransferParams>\n",
       "   high_precision = False\n",
       "   accurate_massive_neutrinos = False\n",
       "   kmax = 0.9\n",
       "   k_per_logint = 0\n",
       "   PK_num_redshifts = 1\n",
       "   PK_redshifts = [0.0]\n",
       " want_zstar = False\n",
       " want_zdrag = False\n",
       " min_l = 2\n",
       " max_l = 2500\n",
       " max_l_tensor = 600\n",
       " max_eta_k = 5000.0\n",
       " max_eta_k_tensor = 1200.0\n",
       " ombh2 = 0.0224\n",
       " omch2 = 0.12\n",
       " omk = 0.0\n",
       " omnuh2 = 0.000644866570625114\n",
       " H0 = 67.4\n",
       " TCMB = 2.7255\n",
       " YHe = 0.24586829360147697\n",
       " num_nu_massless = 2.0293333333333337\n",
       " num_nu_massive = 1\n",
       " nu_mass_eigenstates = 1\n",
       " share_delta_neff = False\n",
       " nu_mass_degeneracies = [1.0146666666666666]\n",
       " nu_mass_fractions = [1.0]\n",
       " nu_mass_numbers = [1]\n",
       " InitPower: <InitialPowerLaw>\n",
       "   tensor_parameterization = tensor_param_rpivot\n",
       "   ns = 0.96\n",
       "   nrun = 0.0\n",
       "   nrunrun = 0.0\n",
       "   nt = -0.0\n",
       "   ntrun = -0.0\n",
       "   r = 0.0\n",
       "   pivot_scalar = 0.05\n",
       "   pivot_tensor = 0.05\n",
       "   As = 2e-09\n",
       "   At = 1.0\n",
       " Recomb: <Recfast>\n",
       "   min_a_evolve_Tm = 0.0011098779505118728\n",
       "   RECFAST_fudge = 1.125\n",
       "   RECFAST_fudge_He = 0.86\n",
       "   RECFAST_Heswitch = 6\n",
       "   RECFAST_Hswitch = True\n",
       "   AGauss1 = -0.14\n",
       "   AGauss2 = 0.079\n",
       "   zGauss1 = 7.28\n",
       "   zGauss2 = 6.73\n",
       "   wGauss1 = 0.18\n",
       "   wGauss2 = 0.33\n",
       " Reion: <TanhReionization>\n",
       "   Reionization = True\n",
       "   use_optical_depth = True\n",
       "   redshift = 10.0\n",
       "   optical_depth = 0.054\n",
       "   fraction = -1.0\n",
       "   include_helium_fullreion = True\n",
       "   helium_redshift = 3.5\n",
       "   helium_delta_redshift = 0.4\n",
       "   helium_redshiftstart = 5.5\n",
       "   tau_solve_accuracy_boost = 1.0\n",
       "   timestep_boost = 1.0\n",
       "   max_redshift = 50.0\n",
       "   delta_redshift = 0.5\n",
       " DarkEnergy: <DarkEnergyFluid>\n",
       "   w = -1.0\n",
       "   wa = 0.0\n",
       "   cs2 = 1.0\n",
       "   use_tabulated_w = False\n",
       " NonLinearModel: <Halofit>\n",
       "   Min_kh_nonlinear = 0.005\n",
       "   halofit_version = mead2020\n",
       "   HMCode_A_baryon = 3.13\n",
       "   HMCode_eta_baryon = 0.603\n",
       "   HMCode_logT_AGN = 7.8\n",
       " Accuracy: <AccuracyParams>\n",
       "   AccuracyBoost = 1.0\n",
       "   lSampleBoost = 1.0\n",
       "   lAccuracyBoost = 1.0\n",
       "   AccuratePolarization = True\n",
       "   AccurateBB = False\n",
       "   AccurateReionization = True\n",
       "   TimeStepBoost = 1.0\n",
       "   BackgroundTimeStepBoost = 1.0\n",
       "   IntTolBoost = 1.0\n",
       "   SourcekAccuracyBoost = 1.0\n",
       "   IntkAccuracyBoost = 1.0\n",
       "   TransferkBoost = 1.0\n",
       "   NonFlatIntAccuracyBoost = 1.0\n",
       "   BessIntBoost = 1.0\n",
       "   LensingBoost = 1.0\n",
       "   NonlinSourceBoost = 1.0\n",
       "   BesselBoost = 1.0\n",
       "   LimberBoost = 1.0\n",
       "   SourceLimberBoost = 1.0\n",
       "   KmaxBoost = 1.0\n",
       "   neutrino_q_boost = 1.0\n",
       " SourceTerms: <SourceTermParams>\n",
       "   limber_windows = True\n",
       "   limber_phi_lmin = 100\n",
       "   counts_density = True\n",
       "   counts_redshift = True\n",
       "   counts_lensing = False\n",
       "   counts_velocity = True\n",
       "   counts_radial = False\n",
       "   counts_timedelay = True\n",
       "   counts_ISW = True\n",
       "   counts_potential = True\n",
       "   counts_evolve = False\n",
       "   line_phot_dipole = False\n",
       "   line_phot_quadrupole = False\n",
       "   line_basic = True\n",
       "   line_distortions = True\n",
       "   line_extra = False\n",
       "   line_reionization = False\n",
       "   use_21cm_mK = True\n",
       " z_outputs = []\n",
       " scalar_initial_condition = initial_adiabatic\n",
       " InitialConditionVector = []\n",
       " OutputNormalization = 1\n",
       " Alens = 1.0\n",
       " MassiveNuMethod = Nu_best\n",
       " DoLateRadTruncation = True\n",
       " Evolve_baryon_cs = False\n",
       " Evolve_delta_xe = False\n",
       " Evolve_delta_Ts = False\n",
       " Do21cm = False\n",
       " transfer_21cm_cl = False\n",
       " Log_lvalues = False\n",
       " use_cl_spline_template = True\n",
       " min_l_logl_sampling = 5000\n",
       " SourceWindows = []\n",
       " CustomSources: <CustomSources>\n",
       "   num_custom_sources = 0\n",
       "   c_source_func = None\n",
       "   custom_source_ell_scales = []\n",
       " "
      ]
     },
     "execution_count": 4,
     "metadata": {},
     "output_type": "execute_result"
    }
   ],
   "source": [
    "# Creamos un objeto donde guardaremos los parámetros cosmológicos\n",
    "pars = camb.CAMBparams()\n",
    "\n",
    "pars.set_cosmology(H0=H0, ombh2=omega_bh2, omch2=omega_ch2, tau=tau) # set_cosmology nos permite guardar los valores antes definidos"
   ]
  },
  {
   "cell_type": "code",
   "execution_count": 5,
   "id": "4056a348",
   "metadata": {},
   "outputs": [],
   "source": [
    "# Ahora, para obtener resultados podemos simplemente llamar a otro objeto de camb\n",
    "\n",
    "results = camb.get_results(pars)"
   ]
  },
  {
   "cell_type": "markdown",
   "id": "bf81d7f3",
   "metadata": {},
   "source": [
    "## Paso 2: Definir distancias"
   ]
  },
  {
   "cell_type": "code",
   "execution_count": 6,
   "id": "6e955db4",
   "metadata": {},
   "outputs": [
    {
     "name": "stdout",
     "output_type": "stream",
     "text": [
      "Help on method luminosity_distance in module camb.results:\n",
      "\n",
      "luminosity_distance(z) method of camb.results.CAMBdata instance\n",
      "    Get luminosity distance from to redshift z.\n",
      "    \n",
      "    Must have called :meth:`calc_background`, :meth:`calc_background_no_thermo` or calculated transfer functions or\n",
      "    power spectra.\n",
      "    \n",
      "    :param z: redshift or array of redshifts\n",
      "    :return: luminosity distance (matches rank of z)\n",
      "\n"
     ]
    }
   ],
   "source": [
    "help(results.luminosity_distance)"
   ]
  },
  {
   "cell_type": "code",
   "execution_count": 7,
   "id": "3a0eac9a",
   "metadata": {},
   "outputs": [
    {
     "name": "stdout",
     "output_type": "stream",
     "text": [
      "Help on method angular_diameter_distance in module camb.results:\n",
      "\n",
      "angular_diameter_distance(z) method of camb.results.CAMBdata instance\n",
      "    Get (non-comoving) angular diameter distance to redshift z.\n",
      "    \n",
      "    Must have called :meth:`calc_background`, :meth:`calc_background_no_thermo` or calculated transfer\n",
      "    functions or power spectra.\n",
      "    \n",
      "    :param z: redshift or array of redshifts\n",
      "    :return: angular diameter distances, matching rank of z\n",
      "\n"
     ]
    }
   ],
   "source": [
    "help(results.angular_diameter_distance)"
   ]
  },
  {
   "cell_type": "code",
   "execution_count": 8,
   "id": "58429c35",
   "metadata": {},
   "outputs": [],
   "source": [
    "zs = np.linspace(0, 10, 1_000)\n",
    "\n",
    "D_ang = results.angular_diameter_distance(zs)\n",
    "D_lum = results.luminosity_distance(zs)"
   ]
  },
  {
   "cell_type": "code",
   "execution_count": 9,
   "id": "7e0ba99c",
   "metadata": {},
   "outputs": [
    {
     "data": {
      "text/plain": [
       "Text(0, 0.5, 'd [Mpc]')"
      ]
     },
     "execution_count": 9,
     "metadata": {},
     "output_type": "execute_result"
    },
    {
     "data": {
      "image/png": "[encoded data removed]",
      "text/plain": [
       "<Figure size 600x400 with 1 Axes>"
      ]
     },
     "metadata": {},
     "output_type": "display_data"
    }
   ],
   "source": [
    "fig, ax = plt.subplots(ncols=1, nrows=1, sharey=True, figsize=(6, 4), constrained_layout = True)\n",
    "\n",
    "ax.loglog(zs, D_ang, color='purple', label='Angular Diameter Distance')\n",
    "ax.loglog(zs, D_lum, color='b', label='Luminosity Distance')\n",
    "\n",
    "ax.grid(alpha=0.4, ls=':')\n",
    "\n",
    "ax.legend()\n",
    "ax.set_xlabel('Redshift z', fontsize=16)\n",
    "ax.set_ylabel('d [Mpc]', fontsize=16)"
   ]
  },
  {
   "cell_type": "markdown",
   "id": "c9638d48",
   "metadata": {},
   "source": [
    "## Hágalo usted mismx:\n",
    "\n",
    "Comparar lo obtenido con CAMB, con la solución analítica. Para la solución analítica, es recomendable definir las funciones dependiendo de los parámetros cosmológicos $\\Omega_a$, para que puedan ver cómo cambian sus resultados al ir variando estos parámetros.\n",
    "\n",
    "(Recuerden que el subíndice  hace referencia a evaluar en el tiempo presente, no confundir con la notación de derivadas de GR)\n",
    "\n",
    "La forma analítica de las distancias es\n",
    "\n",
    "\n",
    "$$\n",
    "D_A(z)=\\frac{f_K(\\chi)}{1+z}, \n",
    "\\qquad \n",
    "D_L(z)=(1+z)\\,f_K(\\chi).\n",
    "$$\n",
    "\n",
    "donde\n",
    "$$\n",
    "\\chi(z)=\\int_0^{z}\\frac{dx}{E(x)}, \n",
    "\\qquad \n",
    "E(z)=\\frac{H(z)}{H_0}.\n",
    "$$\n",
    "\n",
    "La función de curvatura $f_K(\\chi)$ es\n",
    "$$\n",
    "f_K(\\chi)=\n",
    "\\begin{cases}\n",
    "\\dfrac{c}{H_0\\sqrt{\\Omega_{K,0}}}\\;\n",
    "\\sinh\\!\\Big(\\sqrt{\\Omega_{K,0}}\\;\\chi\\Big), & \\Omega_{K,0}>0,\\\\[10pt]\n",
    "\\dfrac{c}{H_0}\\;\\chi, & \\Omega_{K,0}=0,\\\\[10pt]\n",
    "\\dfrac{c}{H_0\\sqrt{-\\Omega_{K,0}}}\\;\n",
    "\\sin\\!\\Big(\\sqrt{-\\Omega_{K,0}}\\;\\chi\\Big), & \\Omega_{K,0}<0.\n",
    "\\end{cases}\n",
    "$$\n",
    "\n",
    "Con un componente de radiación, materia, energía oscura (con ecuación de estado w) y curvatura:\n",
    "$$\n",
    "H^2(z)=H_0^2\\Big[\n",
    "\\Omega_{r,0}(1+z)^4+\\Omega_{m,0}(1+z)^3\n",
    "+\\Omega_{\\Lambda,0}(1+z)^{3(1+w)}+\\Omega_{K,0}(1+z)^2\n",
    "\\Big].\n",
    "$$\n",
    "\n",
    "\n",
    "Donde:\n",
    " \n",
    " \n",
    " \n",
    " \n",
    " \n",
    " \n",
    "  \n",
    "\n",
    " \n",
    "\n"
   ]
  },
  {
   "cell_type": "code",
   "execution_count": null,
   "id": "1940db6e",
   "metadata": {},
   "outputs": [],
   "source": []
  }
 ],
 "metadata": {
  "kernelspec": {
   "display_name": "Python 3",
   "language": "python",
   "name": "python3"
  },
  "language_info": {
   "codemirror_mode": {
    "name": "ipython",
    "version": 3
   },
   "file_extension": ".py",
   "mimetype": "text/x-python",
   "name": "python",
   "nbconvert_exporter": "python",
   "pygments_lexer": "ipython3",
   "version": "3.9.6"
  }
 },
 "nbformat": 4,
 "nbformat_minor": 5
}
